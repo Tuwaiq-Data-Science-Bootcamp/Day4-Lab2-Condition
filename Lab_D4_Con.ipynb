{
 "cells": [
  {
   "cell_type": "code",
   "execution_count": 13,
   "id": "66f2bc49",
   "metadata": {},
   "outputs": [
    {
     "name": "stdout",
     "output_type": "stream",
     "text": [
      "I recommended it, It is good\n"
     ]
    }
   ],
   "source": [
    "movie=\"IceEdge\"\n",
    "movie_rate =int(3) \n",
    "popularity_score=float(72.65)\n",
    "\n",
    "if movie_rate >= 4 and popularity_score> 80 :\n",
    "    print(\"Highly recommended\")\n",
    "elif movie_rate >= 3 and popularity_score> 70:\n",
    "    print(\"I recommended it, It is good\") \n",
    "elif movie_rate <= 2 and popularity_score> 60:\n",
    "    print(\"You should check it out!\")  \n",
    "elif movie_rate <= 2 and popularity_score< 50:\n",
    "    print(\"Don't watch it, It is a waste of time\")  \n",
    "    "
   ]
  }
 ],
 "metadata": {
  "kernelspec": {
   "display_name": "Python 3 (ipykernel)",
   "language": "python",
   "name": "python3"
  },
  "language_info": {
   "codemirror_mode": {
    "name": "ipython",
    "version": 3
   },
   "file_extension": ".py",
   "mimetype": "text/x-python",
   "name": "python",
   "nbconvert_exporter": "python",
   "pygments_lexer": "ipython3",
   "version": "3.9.13"
  }
 },
 "nbformat": 4,
 "nbformat_minor": 5
}
