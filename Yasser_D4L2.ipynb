{
 "cells": [
  {
   "cell_type": "code",
   "execution_count": 4,
   "metadata": {},
   "outputs": [],
   "source": [
    "#1\n",
    "movie = 'Siccor Seven'\n",
    "#2\n",
    "movie_rate = 3\n",
    "#3\n",
    "popularity_score = 72.65\n",
    "\n",
    "\n"
   ]
  },
  {
   "cell_type": "code",
   "execution_count": 5,
   "metadata": {},
   "outputs": [
    {
     "name": "stdout",
     "output_type": "stream",
     "text": [
      "I recommended it, It is good\n"
     ]
    }
   ],
   "source": [
    "#4\n",
    "if movie_rate >= 4 and popularity_score > 80:\n",
    "    print(\"Highly recommended\")\n",
    "elif movie_rate >= 3 and popularity_score > 70:\n",
    "    print(\"I recommended it, It is good\")\n",
    "elif movie_rate <= 2 and popularity_score > 60:\n",
    "    print(\"You should check it out!\")\n",
    "else :\n",
    "    print(\"Don't watch it, It is a waste of time\")\n",
    "    \n",
    "\n",
    "    "
   ]
  }
 ],
 "metadata": {
  "kernelspec": {
   "display_name": "Python 3.10.8 64-bit",
   "language": "python",
   "name": "python3"
  },
  "language_info": {
   "codemirror_mode": {
    "name": "ipython",
    "version": 3
   },
   "file_extension": ".py",
   "mimetype": "text/x-python",
   "name": "python",
   "nbconvert_exporter": "python",
   "pygments_lexer": "ipython3",
   "version": "3.10.8"
  },
  "orig_nbformat": 4,
  "vscode": {
   "interpreter": {
    "hash": "37790ba2a09019fe53a2f1d81386b9ad2e2158e92ef42af577a5cadc6d647896"
   }
  }
 },
 "nbformat": 4,
 "nbformat_minor": 2
}
