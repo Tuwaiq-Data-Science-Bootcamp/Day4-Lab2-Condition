{
 "cells": [
  {
   "cell_type": "code",
   "execution_count": 39,
   "id": "a880c01a",
   "metadata": {},
   "outputs": [
    {
     "name": "stdout",
     "output_type": "stream",
     "text": [
      "up\n",
      "3\n",
      "72.65\n"
     ]
    }
   ],
   "source": [
    "movie = \"up\"\n",
    "rate = 3\n",
    "popularity_score = 72.65\n",
    "print(movie)\n",
    "print(rate)\n",
    "print(popularity_score)"
   ]
  },
  {
   "cell_type": "code",
   "execution_count": 47,
   "id": "2e78db76",
   "metadata": {},
   "outputs": [
    {
     "name": "stdout",
     "output_type": "stream",
     "text": [
      "I recommended it, It is good\n"
     ]
    }
   ],
   "source": [
    "if (5>=rate>= 4) & (100>=popularity_score>=80):\n",
    "    print(\"Highly recommended\")\n",
    "elif (4>=rate>= 3) & (79>=popularity_score>=70):\n",
    "    print( \"I recommended it, It is good\")\n",
    "elif(rate<=2) & (69>=popularity_score>=60):\n",
    "    print(\"You should check it out!\")\n",
    "elif(rate<=2) & (59>=popularity_score>=50):\n",
    "     print(\"Don't watch it, It is a waste of time\")\n",
    "else :\n",
    "    print (\"error\")\n",
    "        "
   ]
  },
  {
   "cell_type": "code",
   "execution_count": null,
   "id": "779287f4",
   "metadata": {},
   "outputs": [],
   "source": []
  }
 ],
 "metadata": {
  "kernelspec": {
   "display_name": "Python 3 (ipykernel)",
   "language": "python",
   "name": "python3"
  },
  "language_info": {
   "codemirror_mode": {
    "name": "ipython",
    "version": 3
   },
   "file_extension": ".py",
   "mimetype": "text/x-python",
   "name": "python",
   "nbconvert_exporter": "python",
   "pygments_lexer": "ipython3",
   "version": "3.9.12"
  }
 },
 "nbformat": 4,
 "nbformat_minor": 5
}
