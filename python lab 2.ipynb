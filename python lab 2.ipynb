{
 "cells": [
  {
   "cell_type": "markdown",
   "id": "335ad0cc",
   "metadata": {},
   "source": [
    "# Create a variable for the movie (choose any movie you like).\n"
   ]
  },
  {
   "cell_type": "code",
   "execution_count": 1,
   "id": "e22a47db",
   "metadata": {},
   "outputs": [],
   "source": [
    "movie=' Toy Story'"
   ]
  },
  {
   "cell_type": "markdown",
   "id": "349b5035",
   "metadata": {},
   "source": [
    "# Create a variable of type int to hold the rating of the movie out of 5. Give this movie rate = 3"
   ]
  },
  {
   "cell_type": "code",
   "execution_count": 2,
   "id": "f72319a5",
   "metadata": {},
   "outputs": [],
   "source": [
    "rating=3"
   ]
  },
  {
   "cell_type": "markdown",
   "id": "edf8fe84",
   "metadata": {},
   "source": [
    "# Create a popularity score of type float, let it be 72.65\n"
   ]
  },
  {
   "cell_type": "code",
   "execution_count": 4,
   "id": "8174e770",
   "metadata": {},
   "outputs": [],
   "source": [
    "popularity=72.65"
   ]
  },
  {
   "cell_type": "markdown",
   "id": "f8a450d5",
   "metadata": {},
   "source": [
    "# Using an if statement:\n",
    "## Check if the movie rating is 4 or greater and the popularity is greater than 80, print \"Highly recommended\".\n",
    "## Else if the movie rating is 3 or greater and the popularity is greater than 70, print \"I recommended it, It is good\".\n",
    "## Else if the movie rating is 2 or less and the popularity is greater than 60, print \"You should check it out!\".\n",
    "## Else the movie rating is 2 or less and the popularity is less than 50, print \"Don't watch it, It is a waste of time\"."
   ]
  },
  {
   "cell_type": "code",
   "execution_count": 12,
   "id": "40ad6945",
   "metadata": {},
   "outputs": [
    {
     "name": "stdout",
     "output_type": "stream",
     "text": [
      "I recommended it, It is good\n"
     ]
    }
   ],
   "source": [
    "if rating >= 4 and popularity >80:\n",
    "    print('Highly recommended')\n",
    "elif rating >= 3 and popularity >70:\n",
    "    print('I recommended it, It is good')\n",
    "elif rating <= 2 and popularity >60:\n",
    "    print('You should check it out!')\n",
    "elif rating <= 2 and popularity <50:\n",
    "    print('Don\\'t watch it, It is a waste of time')"
   ]
  },
  {
   "cell_type": "code",
   "execution_count": null,
   "id": "48e052cc",
   "metadata": {},
   "outputs": [],
   "source": []
  }
 ],
 "metadata": {
  "kernelspec": {
   "display_name": "Python 3",
   "language": "python",
   "name": "python3"
  },
  "language_info": {
   "codemirror_mode": {
    "name": "ipython",
    "version": 3
   },
   "file_extension": ".py",
   "mimetype": "text/x-python",
   "name": "python",
   "nbconvert_exporter": "python",
   "pygments_lexer": "ipython3",
   "version": "3.8.5"
  }
 },
 "nbformat": 4,
 "nbformat_minor": 5
}
