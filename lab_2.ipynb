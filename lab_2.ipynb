{
 "cells": [
  {
   "cell_type": "code",
   "execution_count": 4,
   "id": "48f26908",
   "metadata": {},
   "outputs": [
    {
     "name": "stdout",
     "output_type": "stream",
     "text": [
      "I recommended it, It is good\n"
     ]
    }
   ],
   "source": [
    "movie = \"the black list\"\n",
    "rate = 3\n",
    "popularity_score = 72.65\n",
    "\n",
    "if (rate >= 4 ) or (popularity_score > 80):\n",
    "    print(\"Highly recommended\")\n",
    "\n",
    "elif (rate >= 3 ) or (popularity_score > 70):\n",
    "    print(\"I recommended it, It is good\")\n",
    "\n",
    "elif (rate <= 2 ) or (popularity_score > 60):\n",
    "    print(\"You should check it out!\")\n",
    "    \n",
    "elif (rate <=2 ) or (popularity_score < 50):\n",
    "    print(\"Don't watch it, It is a waste of time\")\n",
    "\n",
    "else:\n",
    "    print(\"Don't watch it, It is a waste of time\")\n",
    "\n",
    "\n"
   ]
  },
  {
   "cell_type": "code",
   "execution_count": null,
   "id": "5f4a2d42",
   "metadata": {},
   "outputs": [],
   "source": []
  }
 ],
 "metadata": {
  "kernelspec": {
   "display_name": "Python 3 (ipykernel)",
   "language": "python",
   "name": "python3"
  },
  "language_info": {
   "codemirror_mode": {
    "name": "ipython",
    "version": 3
   },
   "file_extension": ".py",
   "mimetype": "text/x-python",
   "name": "python",
   "nbconvert_exporter": "python",
   "pygments_lexer": "ipython3",
   "version": "3.9.13"
  }
 },
 "nbformat": 4,
 "nbformat_minor": 5
}
