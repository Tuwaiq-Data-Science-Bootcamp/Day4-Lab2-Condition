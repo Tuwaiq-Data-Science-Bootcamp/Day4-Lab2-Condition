{
 "cells": [
  {
   "cell_type": "code",
   "execution_count": 3,
   "metadata": {},
   "outputs": [
    {
     "name": "stdout",
     "output_type": "stream",
     "text": [
      "Python 3.7.1\n"
     ]
    }
   ],
   "source": [
    "!python --version"
   ]
  },
  {
   "cell_type": "code",
   "execution_count": 14,
   "metadata": {},
   "outputs": [
    {
     "name": "stdout",
     "output_type": "stream",
     "text": [
      "I recommended it, It is good\n"
     ]
    }
   ],
   "source": [
    "movie= \"taitanic\"\n",
    "\n",
    "rate= 3\n",
    "popularity = 72.65\n",
    "\n",
    "if rate >= 4 and popularity >80: \n",
    "    print (\"Highly recommended\")\n",
    "elif rate >= 3 and popularity >70:\n",
    "    print (\"I recommended it, It is good\")\n",
    "elif rate <=2 and popularity >60:\n",
    "    print (\"You should check it out!\")\n",
    "elif rate <=2 and popularity<50: \n",
    "    print (\"Don't watch it, It is a waste of time\")"
   ]
  },
  {
   "cell_type": "code",
   "execution_count": null,
   "metadata": {},
   "outputs": [],
   "source": []
  }
 ],
 "metadata": {
  "kernelspec": {
   "display_name": "Python 3",
   "language": "python",
   "name": "python3"
  },
  "language_info": {
   "codemirror_mode": {
    "name": "ipython",
    "version": 3
   },
   "file_extension": ".py",
   "mimetype": "text/x-python",
   "name": "python",
   "nbconvert_exporter": "python",
   "pygments_lexer": "ipython3",
   "version": "3.7.1"
  }
 },
 "nbformat": 4,
 "nbformat_minor": 2
}
