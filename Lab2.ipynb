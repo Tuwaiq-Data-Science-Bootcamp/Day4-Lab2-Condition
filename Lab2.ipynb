{
 "cells": [
  {
   "cell_type": "code",
   "execution_count": 12,
   "id": "0fe7be79",
   "metadata": {},
   "outputs": [
    {
     "name": "stdout",
     "output_type": "stream",
     "text": [
      "I recommended it, It is good\n"
     ]
    }
   ],
   "source": [
    "movieName = \"None\"\n",
    "rate = 3\n",
    "popularityScore = 72.65\n",
    "\n",
    "if rate >= 4 and popularityScore > 80:\n",
    "    print('Highly recommended')\n",
    "    \n",
    "elif rate >= 3 and popularityScore > 70:\n",
    "    print('I recommended it, It is good')\n",
    "\n",
    "elif rate <= 2 and popularityScore > 60:\n",
    "    print('You should check it out!')  \n",
    "    \n",
    "elif rate <= 2 and popularityScore < 50:\n",
    "    print('Do not watch it, It is a waste of time')\n",
    "    "
   ]
  },
  {
   "cell_type": "code",
   "execution_count": null,
   "id": "2be5e07d",
   "metadata": {},
   "outputs": [],
   "source": []
  }
 ],
 "metadata": {
  "kernelspec": {
   "display_name": "Python 3 (ipykernel)",
   "language": "python",
   "name": "python3"
  },
  "language_info": {
   "codemirror_mode": {
    "name": "ipython",
    "version": 3
   },
   "file_extension": ".py",
   "mimetype": "text/x-python",
   "name": "python",
   "nbconvert_exporter": "python",
   "pygments_lexer": "ipython3",
   "version": "3.9.12"
  }
 },
 "nbformat": 4,
 "nbformat_minor": 5
}
