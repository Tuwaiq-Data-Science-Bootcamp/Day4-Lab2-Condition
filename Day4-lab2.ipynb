{
 "cells": [
  {
   "cell_type": "code",
   "execution_count": 43,
   "id": "a85b6e25",
   "metadata": {},
   "outputs": [
    {
     "name": "stdout",
     "output_type": "stream",
     "text": [
      "I recommended it, It is good\n"
     ]
    }
   ],
   "source": [
    "movieName = \"waa\"\n",
    "rate = 3\n",
    "popScore = 72.65\n",
    "\n",
    "if (5>=rate>=4) & (100>=popScore>=80) : \n",
    "    print (\"Highly recommended\")\n",
    "elif (4>=rate>=3) & (79>=popScore>=70) : \n",
    "    print (\"I recommended it, It is good\")\n",
    "elif  (rate<=2) & (69>=popScore>=60) : \n",
    "    print (\"You should check it out!\")\n",
    "elif (rate<=2) & (59>=popScore>=50) : \n",
    "    print (\"Don't watch it, It is a waste of time\")\n",
    "else : \n",
    "    print (\"Error input\")"
   ]
  },
  {
   "cell_type": "code",
   "execution_count": null,
   "id": "963540cb",
   "metadata": {},
   "outputs": [],
   "source": []
  }
 ],
 "metadata": {
  "kernelspec": {
   "display_name": "Python 3 (ipykernel)",
   "language": "python",
   "name": "python3"
  },
  "language_info": {
   "codemirror_mode": {
    "name": "ipython",
    "version": 3
   },
   "file_extension": ".py",
   "mimetype": "text/x-python",
   "name": "python",
   "nbconvert_exporter": "python",
   "pygments_lexer": "ipython3",
   "version": "3.9.13"
  }
 },
 "nbformat": 4,
 "nbformat_minor": 5
}
