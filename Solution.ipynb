{
 "cells": [
  {
   "cell_type": "code",
   "execution_count": 57,
   "id": "63e7e105",
   "metadata": {},
   "outputs": [],
   "source": [
    "Movie = \"\"\n",
    "MovieRating=2\n",
    "MoviePopularity=23"
   ]
  },
  {
   "cell_type": "code",
   "execution_count": 67,
   "id": "7bfcc883",
   "metadata": {},
   "outputs": [
    {
     "name": "stdout",
     "output_type": "stream",
     "text": [
      "Don't watch it, it is a waste of time\n"
     ]
    }
   ],
   "source": [
    "if MovieRating >= 4 and MoviePopularity > 80:\n",
    "    print(\"Highly Recommended\")\n",
    "elif MovieRating >= 3 and MoviePopularity > 70:\n",
    "    print(\"I Recommended it, it is good\")\n",
    "elif MovieRating <= 2 and MoviePopularity > 60:\n",
    "    print(\"You should check it out!\")\n",
    "else:\n",
    "    print(\"Don't watch it, it is a waste of time\")"
   ]
  }
 ],
 "metadata": {
  "kernelspec": {
   "display_name": "Python 3 (ipykernel)",
   "language": "python",
   "name": "python3"
  },
  "language_info": {
   "codemirror_mode": {
    "name": "ipython",
    "version": 3
   },
   "file_extension": ".py",
   "mimetype": "text/x-python",
   "name": "python",
   "nbconvert_exporter": "python",
   "pygments_lexer": "ipython3",
   "version": "3.9.13"
  }
 },
 "nbformat": 4,
 "nbformat_minor": 5
}
